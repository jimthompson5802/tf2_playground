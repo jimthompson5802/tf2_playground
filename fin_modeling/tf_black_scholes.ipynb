{
 "cells": [
  {
   "cell_type": "markdown",
   "metadata": {},
   "source": [
    "# Black-Scholes Computations in Tensorflow 2\n",
    "\n",
    "Based on discussion from this [web page](https://numba.pydata.org/numba-examples/examples/finance/blackscholes/results.html)."
   ]
  },
  {
   "cell_type": "code",
   "execution_count": 1,
   "metadata": {},
   "outputs": [
    {
     "name": "stdout",
     "output_type": "stream",
     "text": [
      "Requirement already satisfied: tensorflow_probability in /usr/local/lib/python3.6/dist-packages (0.12.1)\n",
      "Requirement already satisfied: gast>=0.3.2 in /usr/local/lib/python3.6/dist-packages (from tensorflow_probability) (0.3.3)\n",
      "Requirement already satisfied: numpy>=1.13.3 in /usr/local/lib/python3.6/dist-packages (from tensorflow_probability) (1.19.4)\n",
      "Requirement already satisfied: dm-tree in /usr/local/lib/python3.6/dist-packages (from tensorflow_probability) (0.1.5)\n",
      "Requirement already satisfied: decorator in /usr/local/lib/python3.6/dist-packages (from tensorflow_probability) (4.4.2)\n",
      "Requirement already satisfied: cloudpickle>=1.3 in /usr/local/lib/python3.6/dist-packages (from tensorflow_probability) (1.6.0)\n",
      "Requirement already satisfied: six>=1.10.0 in /usr/local/lib/python3.6/dist-packages (from tensorflow_probability) (1.15.0)\n",
      "\u001b[33mWARNING: You are using pip version 20.2.4; however, version 21.0.1 is available.\n",
      "You should consider upgrading via the '/usr/bin/python3 -m pip install --upgrade pip' command.\u001b[0m\n"
     ]
    }
   ],
   "source": [
    "!pip install tensorflow_probability"
   ]
  },
  {
   "cell_type": "code",
   "execution_count": 2,
   "metadata": {},
   "outputs": [
    {
     "data": {
      "text/plain": [
       "'2.4.0'"
      ]
     },
     "execution_count": 2,
     "metadata": {},
     "output_type": "execute_result"
    }
   ],
   "source": [
    "from collections import namedtuple\n",
    "import numpy as np\n",
    "import pandas as pd\n",
    "import scipy\n",
    "import tensorflow as tf\n",
    "import time\n",
    "import tensorflow_probability as tfp\n",
    "tf.__version__"
   ]
  },
  {
   "cell_type": "code",
   "execution_count": 3,
   "metadata": {},
   "outputs": [
    {
     "data": {
      "text/plain": [
       "[PhysicalDevice(name='/physical_device:CPU:0', device_type='CPU')]"
      ]
     },
     "execution_count": 3,
     "metadata": {},
     "output_type": "execute_result"
    }
   ],
   "source": [
    "tf.config.list_physical_devices()"
   ]
  },
  {
   "cell_type": "markdown",
   "metadata": {},
   "source": [
    "### Example data\n",
    "Taken from https://study.com/academy/lesson/black-scholes-model-formula-examples.html\n",
    "https://www.mathworks.com/matlabcentral/fileexchange/69544-calcgreeks-calculate-option-greeks-european-black-scholes/?s_tid=LandingPageTabfx"
   ]
  },
  {
   "cell_type": "code",
   "execution_count": 4,
   "metadata": {},
   "outputs": [],
   "source": [
    "OptionParameters = namedtuple('OptionParameters', 'stockPrice, optionStrike, optionYears, Riskfree, Volatility')"
   ]
  },
  {
   "cell_type": "code",
   "execution_count": 5,
   "metadata": {},
   "outputs": [
    {
     "data": {
      "text/plain": [
       "OptionParameters(stockPrice=120.0, optionStrike=100.0, optionYears=1.0, Riskfree=0.01, Volatility=0.5)"
      ]
     },
     "execution_count": 5,
     "metadata": {},
     "output_type": "execute_result"
    }
   ],
   "source": [
    "option_data = OptionParameters(\n",
    "    stockPrice=120.00, \n",
    "    optionStrike=100.0, \n",
    "    optionYears=1.00, \n",
    "    Riskfree=0.01, \n",
    "    Volatility=0.5\n",
    ")\n",
    "option_data"
   ]
  },
  {
   "cell_type": "markdown",
   "metadata": {},
   "source": [
    "## Setup Black-Scholes Calculations\n",
    "### Numpy Version"
   ]
  },
  {
   "cell_type": "code",
   "execution_count": 6,
   "metadata": {},
   "outputs": [],
   "source": [
    "def cnd(d):\n",
    "    A1 = 0.31938153\n",
    "    A2 = -0.356563782\n",
    "    A3 = 1.781477937\n",
    "    A4 = -1.821255978\n",
    "    A5 = 1.330274429\n",
    "    RSQRT2PI = 0.39894228040143267793994605993438\n",
    "    K = 1.0 / (1.0 + 0.2316419 * np.abs(d))\n",
    "    ret_val = (RSQRT2PI * np.exp(-0.5 * d * d) *\n",
    "               (K * (A1 + K * (A2 + K * (A3 + K * (A4 + K * A5))))))\n",
    "    return np.where(d > 0, 1.0 - ret_val, ret_val)\n",
    "\n",
    "    # SPEEDTIP: Despite the memory overhead and redundant computation, the above\n",
    "    # is much faster than:\n",
    "    #\n",
    "    # for i in range(len(d)):\n",
    "    #     if d[i] > 0:\n",
    "    #         ret_val[i] = 1.0 - ret_val[i]\n",
    "    # return ret_val\n",
    "\n",
    "\n",
    "def np_black_scholes(stockPrice, optionStrike, optionYears, Riskfree, Volatility):\n",
    "    S = stockPrice\n",
    "    X = optionStrike\n",
    "    T = optionYears\n",
    "    R = Riskfree\n",
    "    V = Volatility\n",
    "    sqrtT = np.sqrt(T)\n",
    "    d1 = (np.log(S / X) + (R + 0.5 * V * V) * T) / (V * sqrtT)\n",
    "    d2 = d1 - V * sqrtT\n",
    "    cndd1 = cnd(d1)\n",
    "    cndd2 = cnd(d2)\n",
    "\n",
    "    expRT = np.exp(- R * T)\n",
    "\n",
    "    callResult = S * cndd1 - X * expRT * cndd2\n",
    "    putResult = X * expRT * (1.0 - cndd2) - S * (1.0 - cndd1)\n",
    "\n",
    "    return callResult, putResult"
   ]
  },
  {
   "cell_type": "markdown",
   "metadata": {},
   "source": [
    "### Tensorflow Version"
   ]
  },
  {
   "cell_type": "code",
   "execution_count": 7,
   "metadata": {},
   "outputs": [],
   "source": [
    "# convertd numpy function calls to equivalent tensorflow calls\n",
    "\n",
    "TF_PHI = tfp.distributions.Normal(0., 1.0).cdf\n",
    "\n",
    "@tf.function\n",
    "def tf_black_scholes(stockPrice, optionStrike, optionYears, Riskfree, Volatility):\n",
    "    S = stockPrice\n",
    "    X = optionStrike\n",
    "    T = optionYears\n",
    "    R = Riskfree\n",
    "    V = Volatility\n",
    "    sqrtT = tf.sqrt(T)\n",
    "    d1 = (tf.math.log(S / X) + (R + 0.5 * V * V) * T) / (V * sqrtT)\n",
    "    d2 = d1 - V * sqrtT\n",
    "\n",
    "    cndd1 = TF_PHI(d1)\n",
    "    cndd2 = TF_PHI(d2)\n",
    "\n",
    "    expRT = tf.math.exp(- R * T)\n",
    "\n",
    "    callResult = S * cndd1 - X * expRT * cndd2\n",
    "    putResult = X * expRT * (1.0 - cndd2) - S * (1.0 - cndd1)\n",
    "\n",
    "    return callResult, putResult"
   ]
  },
  {
   "cell_type": "code",
   "execution_count": 8,
   "metadata": {},
   "outputs": [
    {
     "name": "stdout",
     "output_type": "stream",
     "text": [
      "CPU times: user 2.1 ms, sys: 0 ns, total: 2.1 ms\n",
      "Wall time: 2.17 ms\n"
     ]
    },
    {
     "data": {
      "text/plain": [
       "(33.65582925801026, 12.660812632927062)"
      ]
     },
     "execution_count": 8,
     "metadata": {},
     "output_type": "execute_result"
    }
   ],
   "source": [
    "%%time\n",
    "np_black_scholes(*option_data)"
   ]
  },
  {
   "cell_type": "code",
   "execution_count": 9,
   "metadata": {},
   "outputs": [
    {
     "name": "stdout",
     "output_type": "stream",
     "text": [
      "CPU times: user 619 ms, sys: 65.4 ms, total: 684 ms\n",
      "Wall time: 725 ms\n"
     ]
    },
    {
     "data": {
      "text/plain": [
       "(<tf.Tensor: shape=(), dtype=float32, numpy=33.65583>,\n",
       " <tf.Tensor: shape=(), dtype=float32, numpy=12.66081>)"
      ]
     },
     "execution_count": 9,
     "metadata": {},
     "output_type": "execute_result"
    }
   ],
   "source": [
    "%%time\n",
    "# slower on first call for graph building\n",
    "tf_black_scholes(*option_data)"
   ]
  },
  {
   "cell_type": "markdown",
   "metadata": {},
   "source": [
    "## Compare numpy, tf-cpu and tf-gpu on large synthetic data set\n",
    "### Generate synthetic data set"
   ]
  },
  {
   "cell_type": "code",
   "execution_count": 10,
   "metadata": {},
   "outputs": [
    {
     "name": "stdout",
     "output_type": "stream",
     "text": [
      "# of rows: 2,097,152\n"
     ]
    },
    {
     "data": {
      "text/html": [
       "<div>\n",
       "<style scoped>\n",
       "    .dataframe tbody tr th:only-of-type {\n",
       "        vertical-align: middle;\n",
       "    }\n",
       "\n",
       "    .dataframe tbody tr th {\n",
       "        vertical-align: top;\n",
       "    }\n",
       "\n",
       "    .dataframe thead th {\n",
       "        text-align: right;\n",
       "    }\n",
       "</style>\n",
       "<table border=\"1\" class=\"dataframe\">\n",
       "  <thead>\n",
       "    <tr style=\"text-align: right;\">\n",
       "      <th></th>\n",
       "      <th>stockPrice</th>\n",
       "      <th>optionStrike</th>\n",
       "      <th>optionYears</th>\n",
       "      <th>Riskfree</th>\n",
       "      <th>Volatility</th>\n",
       "    </tr>\n",
       "  </thead>\n",
       "  <tbody>\n",
       "    <tr>\n",
       "      <th>0</th>\n",
       "      <td>120.0</td>\n",
       "      <td>100.0</td>\n",
       "      <td>1.0</td>\n",
       "      <td>0.01</td>\n",
       "      <td>0.5</td>\n",
       "    </tr>\n",
       "    <tr>\n",
       "      <th>1</th>\n",
       "      <td>120.0</td>\n",
       "      <td>100.0</td>\n",
       "      <td>1.0</td>\n",
       "      <td>0.01</td>\n",
       "      <td>0.5</td>\n",
       "    </tr>\n",
       "    <tr>\n",
       "      <th>2</th>\n",
       "      <td>120.0</td>\n",
       "      <td>100.0</td>\n",
       "      <td>1.0</td>\n",
       "      <td>0.01</td>\n",
       "      <td>0.5</td>\n",
       "    </tr>\n",
       "    <tr>\n",
       "      <th>3</th>\n",
       "      <td>120.0</td>\n",
       "      <td>100.0</td>\n",
       "      <td>1.0</td>\n",
       "      <td>0.01</td>\n",
       "      <td>0.5</td>\n",
       "    </tr>\n",
       "    <tr>\n",
       "      <th>4</th>\n",
       "      <td>120.0</td>\n",
       "      <td>100.0</td>\n",
       "      <td>1.0</td>\n",
       "      <td>0.01</td>\n",
       "      <td>0.5</td>\n",
       "    </tr>\n",
       "  </tbody>\n",
       "</table>\n",
       "</div>"
      ],
      "text/plain": [
       "   stockPrice  optionStrike  optionYears  Riskfree  Volatility\n",
       "0       120.0         100.0          1.0      0.01         0.5\n",
       "1       120.0         100.0          1.0      0.01         0.5\n",
       "2       120.0         100.0          1.0      0.01         0.5\n",
       "3       120.0         100.0          1.0      0.01         0.5\n",
       "4       120.0         100.0          1.0      0.01         0.5"
      ]
     },
     "execution_count": 10,
     "metadata": {},
     "output_type": "execute_result"
    }
   ],
   "source": [
    "the_data = np.array(option_data).reshape(1, -1)\n",
    "for _ in range(21):\n",
    "    the_data = np.vstack([the_data, the_data])\n",
    "\n",
    "option_df = pd.DataFrame(the_data, columns=option_data._fields)\n",
    "print('# of rows: {:,d}'.format(option_df.shape[0]))\n",
    "option_df.head()"
   ]
  },
  {
   "cell_type": "markdown",
   "metadata": {},
   "source": [
    "### Original numpy implementation"
   ]
  },
  {
   "cell_type": "code",
   "execution_count": 11,
   "metadata": {},
   "outputs": [
    {
     "name": "stdout",
     "output_type": "stream",
     "text": [
      "elapsed time: 1.90406 seconds\n",
      "CPU times: user 1.12 s, sys: 790 ms, total: 1.91 s\n",
      "Wall time: 1.91 s\n"
     ]
    },
    {
     "data": {
      "text/plain": [
       "(0    33.655829\n",
       " 1    33.655829\n",
       " 2    33.655829\n",
       " 3    33.655829\n",
       " 4    33.655829\n",
       " dtype: float64,\n",
       " 0    12.660813\n",
       " 1    12.660813\n",
       " 2    12.660813\n",
       " 3    12.660813\n",
       " 4    12.660813\n",
       " dtype: float64)"
      ]
     },
     "execution_count": 11,
     "metadata": {},
     "output_type": "execute_result"
    }
   ],
   "source": [
    "%%time\n",
    "start_time = time.time()\n",
    "ans = np_black_scholes(\n",
    "    option_df['stockPrice'], \n",
    "    option_df['optionStrike'], \n",
    "    option_df['optionYears'], \n",
    "    option_df['Riskfree'], \n",
    "    option_df['Volatility']\n",
    ")\n",
    "np_elapsed_time = np.float32(time.time() - start_time)\n",
    "print('elapsed time: {:.5f} seconds'.format(np_elapsed_time))\n",
    "ans[0][:5], ans[1][:5]"
   ]
  },
  {
   "cell_type": "markdown",
   "metadata": {},
   "source": [
    "### Tensorflow implementation on cpu device"
   ]
  },
  {
   "cell_type": "code",
   "execution_count": 12,
   "metadata": {},
   "outputs": [
    {
     "name": "stdout",
     "output_type": "stream",
     "text": [
      "elapsed time: 0.69556 seconds\n",
      "CPU times: user 1.78 s, sys: 413 ms, total: 2.19 s\n",
      "Wall time: 712 ms\n"
     ]
    },
    {
     "data": {
      "text/plain": [
       "(<tf.Tensor: shape=(5,), dtype=float32, numpy=\n",
       " array([33.655827, 33.655827, 33.655827, 33.655827, 33.655827],\n",
       "       dtype=float32)>,\n",
       " <tf.Tensor: shape=(5,), dtype=float32, numpy=\n",
       " array([12.660807, 12.660807, 12.660807, 12.660807, 12.660807],\n",
       "       dtype=float32)>)"
      ]
     },
     "execution_count": 12,
     "metadata": {},
     "output_type": "execute_result"
    }
   ],
   "source": [
    "%%time\n",
    "start_time = time.time()\n",
    "with tf.device('/device:cpu:0'):\n",
    "    ans = tf_black_scholes(\n",
    "        tf.convert_to_tensor(option_df['stockPrice'], dtype=tf.float32), \n",
    "        tf.convert_to_tensor(option_df['optionStrike'], dtype=tf.float32), \n",
    "        tf.convert_to_tensor(option_df['optionYears'], dtype=tf.float32), \n",
    "        tf.convert_to_tensor(option_df['Riskfree'], dtype=tf.float32), \n",
    "        tf.convert_to_tensor(option_df['Volatility'], dtype=tf.float32)\n",
    "    )\n",
    "tf_cpu_elapsed_time = np.float32(time.time() - start_time)\n",
    "print('elapsed time: {:.5f} seconds'.format(tf_cpu_elapsed_time))\n",
    "ans[0][:5], ans[1][:5]"
   ]
  },
  {
   "cell_type": "markdown",
   "metadata": {},
   "source": [
    "### Display speed-ups relative to numpy implementation"
   ]
  },
  {
   "cell_type": "code",
   "execution_count": 13,
   "metadata": {},
   "outputs": [],
   "source": [
    "speed_ups = pd.Series({'numpy': np_elapsed_time / np_elapsed_time, \n",
    "                       'tf_cpu': np_elapsed_time / tf_cpu_elapsed_time\n",
    "                      })"
   ]
  },
  {
   "cell_type": "code",
   "execution_count": 14,
   "metadata": {},
   "outputs": [
    {
     "data": {
      "text/plain": [
       "<AxesSubplot:title={'center':'Relative Speed-ups'}>"
      ]
     },
     "execution_count": 14,
     "metadata": {},
     "output_type": "execute_result"
    },
    {
     "data": {
      "image/png": "[encoded data removed]",
      "text/plain": [
       "<Figure size 432x288 with 1 Axes>"
      ]
     },
     "metadata": {
      "needs_background": "light"
     },
     "output_type": "display_data"
    }
   ],
   "source": [
    "speed_ups.plot.bar(title='Relative Speed-ups', fontsize=10)"
   ]
  },
  {
   "cell_type": "markdown",
   "metadata": {},
   "source": [
    "## Demonstrate calculating \"the greeks\" using TF autodiff function"
   ]
  },
  {
   "cell_type": "code",
   "execution_count": 15,
   "metadata": {},
   "outputs": [
    {
     "data": {
      "text/plain": [
       "OptionParameters(stockPrice=120.0, optionStrike=100.0, optionYears=1.0, Riskfree=0.01, Volatility=0.5)"
      ]
     },
     "execution_count": 15,
     "metadata": {},
     "output_type": "execute_result"
    }
   ],
   "source": [
    "option_data"
   ]
  },
  {
   "cell_type": "markdown",
   "metadata": {},
   "source": [
    "### Setup tensors for calculation"
   ]
  },
  {
   "cell_type": "code",
   "execution_count": 16,
   "metadata": {},
   "outputs": [],
   "source": [
    "stockPrice = tf.convert_to_tensor(120., dtype=tf.float32, name='stockPrice')\n",
    "optionStrike = tf.convert_to_tensor(100., dtype=tf.float32, name='optionStrike')\n",
    "optionYears = tf.convert_to_tensor(1., dtype=tf.float32, name='optionYears')\n",
    "Riskfree = tf.convert_to_tensor(0.01, dtype=tf.float32, name='Riskfree')\n",
    "Volatility = tf.convert_to_tensor(0.5, dtype=tf.float32, name='Volatility')"
   ]
  },
  {
   "cell_type": "markdown",
   "metadata": {},
   "source": [
    "### Define function to calculate greeks using TF autodiff function\n",
    "\n",
    "Based on discussion found [here](https://quantdare.com/have-you-tried-to-calculate-derivatives-using-tensorflow-2/)"
   ]
  },
  {
   "cell_type": "code",
   "execution_count": 17,
   "metadata": {},
   "outputs": [],
   "source": [
    "def calc_black_scholes_greeks_autodiff(stockPrice, optionStrike, optionYears, Riskfree, Volatility):\n",
    "    variables = [stockPrice, optionStrike, optionYears, Riskfree, Volatility]\n",
    "    \n",
    "    # invoke TF autodiff function\n",
    "    with tf.GradientTape(watch_accessed_variables=False) as tape1:\n",
    "        tape1.watch(stockPrice)\n",
    "        with tf.GradientTape(watch_accessed_variables=False) as tape2:\n",
    "            tape2.watch(variables)\n",
    "            ans = tf_black_scholes(*variables)\n",
    "\n",
    "        # isolate to only the Call valuation,  otherwise gradient will calculate\n",
    "        # derivative to the sum of the components of the ans tensor.\n",
    "        dv = tape2.gradient(ans[0], variables)\n",
    "    \n",
    "    # isolate to only the Delta component, otherwise gradient will calculate\n",
    "    # derivative to the sume of the dv tensor\n",
    "    d2v = tape1.gradient(dv[0], [stockPrice])\n",
    "\n",
    "    return {\n",
    "        'Delta': dv[0].numpy(),\n",
    "        'Gamma': d2v[0].numpy(),\n",
    "        'Theta': dv[2].numpy(),\n",
    "        'Rho': dv[3].numpy(),\n",
    "        'Vega':dv[4].numpy()\n",
    "    }"
   ]
  },
  {
   "cell_type": "markdown",
   "metadata": {},
   "source": [
    "### Calculate greeks via TF autodiff function"
   ]
  },
  {
   "cell_type": "code",
   "execution_count": 18,
   "metadata": {},
   "outputs": [],
   "source": [
    "auto_diff_greeks = calc_black_scholes_greeks_autodiff(stockPrice, optionStrike, optionYears, Riskfree, Volatility)"
   ]
  },
  {
   "cell_type": "markdown",
   "metadata": {},
   "source": [
    "### Compute greeks analytically\n",
    "Greek calculations form this [web page](https://en.wikipedia.org/wiki/Black–Scholes_model)."
   ]
  },
  {
   "cell_type": "code",
   "execution_count": 19,
   "metadata": {},
   "outputs": [],
   "source": [
    "TF_NORMAL = tfp.distributions.Normal(0., 1.)\n",
    "\n",
    "def calc_black_scholes_greeks_analytic(stockPrice, optionStrike, optionYears, Riskfree, Volatility):\n",
    "    S = stockPrice\n",
    "    X = optionStrike\n",
    "    T = optionYears\n",
    "    R = Riskfree\n",
    "    V = Volatility\n",
    "    sqrtT = tf.sqrt(T)\n",
    "    d1 = (tf.math.log(S / X) + (R + 0.5 * V * V) * T) / (V * sqrtT)\n",
    "    d2 = d1 - V * sqrtT\n",
    "\n",
    "    cndd1 = TF_NORMAL.cdf(d1)\n",
    "    cndd2 = TF_NORMAL.cdf(d2)\n",
    "    pdfd1 = TF_NORMAL.prob(d1)\n",
    "\n",
    "    expRT = tf.math.exp(- R * T)\n",
    "\n",
    "    return {\n",
    "        'Delta': cndd1.numpy(),\n",
    "        'Gamma': (pdfd1 / (S * V * T)).numpy(),\n",
    "        'Rho': (X * expRT * cndd2).numpy(),\n",
    "        'Vega': (S * pdfd1 * T).numpy(),\n",
    "        'Theta': (-((S * pdfd1 * V) / (2 * sqrtT)) - R * X * expRT * cndd2).numpy()\n",
    "    }"
   ]
  },
  {
   "cell_type": "code",
   "execution_count": 20,
   "metadata": {},
   "outputs": [],
   "source": [
    "analytic_greeks = calc_black_scholes_greeks_analytic(stockPrice, optionStrike, optionYears, Riskfree, Volatility)"
   ]
  },
  {
   "cell_type": "markdown",
   "metadata": {},
   "source": [
    "### Combine analytic and tf autodiff results for comparison"
   ]
  },
  {
   "cell_type": "code",
   "execution_count": 21,
   "metadata": {},
   "outputs": [
    {
     "data": {
      "text/html": [
       "<div>\n",
       "<style scoped>\n",
       "    .dataframe tbody tr th:only-of-type {\n",
       "        vertical-align: middle;\n",
       "    }\n",
       "\n",
       "    .dataframe tbody tr th {\n",
       "        vertical-align: top;\n",
       "    }\n",
       "\n",
       "    .dataframe thead th {\n",
       "        text-align: right;\n",
       "    }\n",
       "</style>\n",
       "<table border=\"1\" class=\"dataframe\">\n",
       "  <thead>\n",
       "    <tr style=\"text-align: right;\">\n",
       "      <th></th>\n",
       "      <th>tf_auto_diff</th>\n",
       "      <th>analytic</th>\n",
       "      <th>match</th>\n",
       "    </tr>\n",
       "  </thead>\n",
       "  <tbody>\n",
       "    <tr>\n",
       "      <th>Delta</th>\n",
       "      <td>0.737169</td>\n",
       "      <td>0.737169</td>\n",
       "      <td>True</td>\n",
       "    </tr>\n",
       "    <tr>\n",
       "      <th>Gamma</th>\n",
       "      <td>0.005436</td>\n",
       "      <td>0.005436</td>\n",
       "      <td>True</td>\n",
       "    </tr>\n",
       "    <tr>\n",
       "      <th>Theta</th>\n",
       "      <td>10.333263</td>\n",
       "      <td>-10.333263</td>\n",
       "      <td>False</td>\n",
       "    </tr>\n",
       "    <tr>\n",
       "      <th>Rho</th>\n",
       "      <td>54.804504</td>\n",
       "      <td>54.804504</td>\n",
       "      <td>True</td>\n",
       "    </tr>\n",
       "    <tr>\n",
       "      <th>Vega</th>\n",
       "      <td>39.140873</td>\n",
       "      <td>39.140873</td>\n",
       "      <td>True</td>\n",
       "    </tr>\n",
       "  </tbody>\n",
       "</table>\n",
       "</div>"
      ],
      "text/plain": [
       "       tf_auto_diff   analytic  match\n",
       "Delta      0.737169   0.737169   True\n",
       "Gamma      0.005436   0.005436   True\n",
       "Theta     10.333263 -10.333263  False\n",
       "Rho       54.804504  54.804504   True\n",
       "Vega      39.140873  39.140873   True"
      ]
     },
     "execution_count": 21,
     "metadata": {},
     "output_type": "execute_result"
    }
   ],
   "source": [
    "greek_df = pd.DataFrame([pd.Series(auto_diff_greeks), pd.Series(analytic_greeks)]).T.copy()\n",
    "greek_df.columns = ['tf_auto_diff', 'analytic']\n",
    "greek_df['match'] = np.isclose(greek_df['tf_auto_diff'], greek_df['analytic'])\n",
    "greek_df"
   ]
  },
  {
   "cell_type": "code",
   "execution_count": null,
   "metadata": {},
   "outputs": [],
   "source": []
  }
 ],
 "metadata": {
  "kernelspec": {
   "display_name": "Python 3",
   "language": "python",
   "name": "python3"
  },
  "language_info": {
   "codemirror_mode": {
    "name": "ipython",
    "version": 3
   },
   "file_extension": ".py",
   "mimetype": "text/x-python",
   "name": "python",
   "nbconvert_exporter": "python",
   "pygments_lexer": "ipython3",
   "version": "3.6.9"
  }
 },
 "nbformat": 4,
 "nbformat_minor": 4
}
